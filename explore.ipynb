{
 "cells": [
  {
   "cell_type": "code",
   "execution_count": 1,
   "id": "111ffcb8",
   "metadata": {},
   "outputs": [],
   "source": [
    "import matplotlib.pyplot as plt\n",
    "import numpy as np\n",
    "import pandas as pd\n",
    "import matplotlib.pyplot as plt\n",
    "import scipy.stats as stats\n",
    "import seaborn as sns"
   ]
  },
  {
   "cell_type": "code",
   "execution_count": 2,
   "id": "eaa2a6a2",
   "metadata": {},
   "outputs": [],
   "source": [
    "def hypo1(df):\n",
    "    gdp_re = df[df.is_recession >= 1].gdp_pct_change\n",
    "    gdp_nre= df[df.is_recession == 0].gdp_pct_change\n",
    "    sns.histplot(x='gdp_pct_change',hue='is_recession',data=df,kde=True)\n",
    "    sns.set(rc={'figure.figsize':(11.7,8.27)})\n",
    "    print('recession GDP variance:',gdp_re.var())\n",
    "    print('no recession GDP variance:', gdp_nre.var())\n",
    "    t, p = stats.ttest_ind(gdp_re, gdp_nre, equal_var=False)\n",
    "    if p / 2 > 0.05:\n",
    "        print(\"The average GDP in a recession is the same or less than the average GDP in no recession\")\n",
    "    elif t < 0:\n",
    "        print(\"The average GDP in a recession is the same or less than the average GDP in no recession\")\n",
    "    else:\n",
    "        print(\"The average GDP in a recession is the greater than the average GDP in no recession\")\n"
   ]
  },
  {
   "cell_type": "code",
   "execution_count": 5,
   "id": "e6b5c90c",
   "metadata": {},
   "outputs": [],
   "source": [
    "def bin_plot(gen_train_val):\n",
    "    gen_train_val['rate_bin'] = pd.qcut(gen_train_val.rate, 3, labels=['low', 'moderate', 'high'])\n",
    "    ax=sns.catplot(data=gen_train_val, x=\"rate_bin\", y=\"gdp_def\", hue=\"is_recession\", kind=\"box\")\n",
    "    ax.set(xlabel='interest rate',ylabel='gdp_pct_change')\n",
    "    ax.set_titles('interest rate and gdp deflator')\n",
    "    plt.show()"
   ]
  },
  {
   "cell_type": "code",
   "execution_count": null,
   "id": "86c2de7b",
   "metadata": {},
   "outputs": [],
   "source": []
  }
 ],
 "metadata": {
  "kernelspec": {
   "display_name": "Python 3 (ipykernel)",
   "language": "python",
   "name": "python3"
  },
  "language_info": {
   "codemirror_mode": {
    "name": "ipython",
    "version": 3
   },
   "file_extension": ".py",
   "mimetype": "text/x-python",
   "name": "python",
   "nbconvert_exporter": "python",
   "pygments_lexer": "ipython3",
   "version": "3.9.12"
  }
 },
 "nbformat": 4,
 "nbformat_minor": 5
}
