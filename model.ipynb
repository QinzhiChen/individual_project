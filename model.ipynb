{
 "cells": [
  {
   "cell_type": "code",
   "execution_count": 1,
   "id": "c2c10266",
   "metadata": {},
   "outputs": [],
   "source": [
    "import pandas as pd\n",
    "import numpy as np\n",
    "from sklearn.tree import DecisionTreeClassifier, plot_tree, export_text\n",
    "from sklearn.ensemble import RandomForestClassifier\n",
    "from sklearn.linear_model import LogisticRegression\n",
    "from sklearn.neighbors import KNeighborsClassifier\n",
    "from sklearn.linear_model import LogisticRegression\n",
    "from sklearn.metrics import classification_report"
   ]
  },
  {
   "cell_type": "code",
   "execution_count": null,
   "id": "0c98dae0",
   "metadata": {},
   "outputs": [],
   "source": [
    "def model_split_(df_train,df_validate,df_test):\n",
    "    x_train = df_train.select_dtypes(exclude=['object']).drop(columns=['is_recession'])\n",
    "    y_train = df_train.select_dtypes(exclude=['object']).is_recession\n",
    "\n",
    "    x_validate = df_validate.select_dtypes(exclude=['object']).drop(columns=['is_recession'])\n",
    "    y_validate = df_validate.select_dtypes(exclude=['object']).is_recession\n",
    "\n",
    "    x_test = df_test.select_dtypes(exclude=['object']).drop(columns=['is_recession'])\n",
    "    y_test = df_test.select_dtypes(exclude=['object']).is_recession\n",
    "    return x_train, y_train, x_validate, y_validate,x_test,y_test"
   ]
  },
  {
   "cell_type": "code",
   "execution_count": 2,
   "id": "8ac9670f",
   "metadata": {},
   "outputs": [],
   "source": [
    "def modeling(x_train, y_train, x_validate, y_validate):\n",
    "    logrreg_m= LogisticRegression(random_state=123)\n",
    "    dectre_m = DecisionTreeClassifier(max_depth=3, random_state=123)\n",
    "    ranfor_m = RandomForestClassifier(max_depth=5, random_state=123)\n",
    "    knn_m= KNeighborsClassifier(n_neighbors=15, weights='uniform')\n",
    "    models = [logrreg_m, dectre_m, ranfor_m, knn_m]\n",
    "    for model in models:\n",
    "        model.fit(telco_x_train, telco_y_train)\n",
    "        actual_train = telco_y_train\n",
    "        pred_train = model.predict(telco_x_train)\n",
    "        actual_val = telco_y_validate\n",
    "        pred_val = model.predict(telco_x_validate)\n",
    "        print(model)\n",
    "        print('                           ')\n",
    "        print('train score: ')\n",
    "        print(classification_report(actual_train, pred_train))\n",
    "        print('val score: ')\n",
    "        print(classification_report(actual_val, pred_val))\n",
    "        print('                        ')\n",
    "    return logrreg_m, dectre_m, ranfor_m, knn_m\n"
   ]
  },
  {
   "cell_type": "code",
   "execution_count": null,
   "id": "d2b668b6",
   "metadata": {},
   "outputs": [],
   "source": []
  }
 ],
 "metadata": {
  "kernelspec": {
   "display_name": "Python 3 (ipykernel)",
   "language": "python",
   "name": "python3"
  },
  "language_info": {
   "codemirror_mode": {
    "name": "ipython",
    "version": 3
   },
   "file_extension": ".py",
   "mimetype": "text/x-python",
   "name": "python",
   "nbconvert_exporter": "python",
   "pygments_lexer": "ipython3",
   "version": "3.9.12"
  }
 },
 "nbformat": 4,
 "nbformat_minor": 5
}
