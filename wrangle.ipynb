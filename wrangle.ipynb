{
 "cells": [
  {
   "cell_type": "code",
   "execution_count": 1,
   "id": "49435dd4",
   "metadata": {},
   "outputs": [],
   "source": [
    "import env\n",
    "import pandas as pd\n",
    "from fredapi import Fred\n",
    "import requests\n",
    "import seaborn as sns"
   ]
  },
  {
   "cell_type": "code",
   "execution_count": 2,
   "id": "b8295223",
   "metadata": {},
   "outputs": [],
   "source": [
    "# create fred API to acquire information from the Federal Reserve Economic Data\n",
    "fred = Fred(api_key=env.fredkey)"
   ]
  },
  {
   "cell_type": "code",
   "execution_count": 3,
   "id": "4cba06cc",
   "metadata": {},
   "outputs": [],
   "source": [
    "# The data on unemployment is one of the declines in GDP that could lead to an increasing unemployment rate; \n",
    "# therefore, two consecutive declines in GDP would lead to a recession\n",
    "unem=fred.get_series('UNRATE')\n",
    "# Industrial Production is the other key point that can be used to forecast the GDP \n",
    "# because the decline in the output of the key sector means a decline in the GDP\n",
    "INDPRO=fred.get_series('INDPRO')\n",
    "# Real GDP, which reflects inflation\n",
    "RGDP=fred.get_series('GDPC1')\n",
    "# GDP\n",
    "GDP=fred.get_series('GDP')\n",
    "# whether the National Bureau of Economic Research, \n",
    "# which is the independent research organization to announce whether the United Staes is in the Recession officially\n",
    "is_recession=fred.get_series('USREC')"
   ]
  },
  {
   "cell_type": "code",
   "execution_count": 15,
   "id": "fb14b1f9",
   "metadata": {},
   "outputs": [],
   "source": [
    "def gdp_based():\n",
    "    unem=fred.get_series('UNRATE')\n",
    "    indpro=fred.get_series('INDPRO')\n",
    "    rgdp=fred.get_series('GDPC1')\n",
    "    gdp=fred.get_series('GDP')\n",
    "    is_recession=fred.get_series('USREC')\n",
    "    gdp_based_df=pd.DataFrame(data=[unem,indpro,rgdp,gdp,is_recession],index=['unem','indpro','rgdp','gdp','is_recession']).T\n",
    "    gdp_based_df['quarterly'] = pd.PeriodIndex(gdp_based_df.index, freq='q')\n",
    "    gdp_based_df=gdp_based_df.groupby('quarterly').agg('mean')\n",
    "    gdp_based_df.is_recession[round(gdp_based_df.is_recession,2)==0.67]=1\n",
    "    gdp_based_df.is_recession[round(gdp_based_df.is_recession,2)==0.33]=1\n",
    "    gdp_based_df['gdp_pct_change']=gdp_based_df.rgdp.pct_change()\n",
    "    gdp_based_df=gdp_based_df.dropna()\n",
    "    gdp_based_df.index=gdp_based_df.index.astype('datetime64')\n",
    "    return gdp_based_df"
   ]
  },
  {
   "cell_type": "code",
   "execution_count": 16,
   "id": "377c6d71",
   "metadata": {},
   "outputs": [],
   "source": [
    "gdp_based_df=gdp_based"
   ]
  },
  {
   "cell_type": "code",
   "execution_count": 9,
   "id": "ab4badf4",
   "metadata": {},
   "outputs": [],
   "source": [
    "def split_gdp_based(gdp_based_df):\n",
    "    train_size = int(len(gdp_based_df) * .5)\n",
    "    validate_size = int(len(gdp_based_df) * .25)\n",
    "    test_size = int(len(gdp_based_df) - train_size - validate_size)\n",
    "    validate_end_index = train_size + validate_size\n",
    "    gdp_train = gdp_based_df[: train_size]\n",
    "    gdp_validate = gdp_based_df[train_size : validate_end_index]\n",
    "    gdp_test = gdp_based_df[validate_end_index :]\n",
    "    gdp_train_val=pd.concat([gdp_train,gdp_validate],axis=0)\n",
    "    return gdp_train,gdp_validate,gdp_test,gdp_train_val"
   ]
  },
  {
   "cell_type": "code",
   "execution_count": 19,
   "id": "b9372e99",
   "metadata": {},
   "outputs": [],
   "source": [
    "# General data based"
   ]
  },
  {
   "cell_type": "code",
   "execution_count": 22,
   "id": "49381667",
   "metadata": {},
   "outputs": [],
   "source": [
    "# Use general economy data such as CPI, money supply, Core CPI, GDP deflator, unemployment rate, \n",
    "# industrial production, PCE to determine the recession\n",
    "fred = Fred(api_key=env.fredkey)"
   ]
  },
  {
   "cell_type": "code",
   "execution_count": 23,
   "id": "d5690cfa",
   "metadata": {},
   "outputs": [],
   "source": [
    "def gen_based():\n",
    "    cpi=fred.get_series('CPIAUCSL')\n",
    "    moneysup=fred.get_series('M2REAL')\n",
    "    corecpi=fred.get_series('CPILFESL')\n",
    "    gdp_def=fred.get_series('A191RI1Q225SBEA')\n",
    "    unem=fred.get_series('UNRATE')\n",
    "    indpro=fred.get_series('INDPRO')\n",
    "    rgdp=fred.get_series('GDPC1')\n",
    "    gdp=fred.get_series('GDP')\n",
    "    is_recession=fred.get_series('USREC')\n",
    "    gdp_based_df=pd.DataFrame(data=[cpi,moneysup,corecpi,gdp_def,unem,indpro,rgdp,gdp,is_recession],index=['cpi','moneysup','corecpi','gdp_def','unem','indpro','rgdp','gdp','is_recession']).T\n",
    "    gdp_based_df['quarterly'] = pd.PeriodIndex(gdp_based_df.index, freq='q')\n",
    "    gdp_based_df=gdp_based_df.groupby('quarterly').agg('mean')\n",
    "    gdp_based_df.is_recession[round(gdp_based_df.is_recession,2)==0.67]=1\n",
    "    gdp_based_df.is_recession[round(gdp_based_df.is_recession,2)==0.33]=1\n",
    "    gdp_based_df['gdp_pct_change']=gdp_based_df.rgdp.pct_change()\n",
    "    gdp_based_df=gdp_based_df.dropna()\n",
    "    gdp_based_df.index=gdp_based_df.index.astype('datetime64')\n",
    "    return gen_based_df"
   ]
  },
  {
   "cell_type": "code",
   "execution_count": null,
   "id": "f6c5bda2",
   "metadata": {},
   "outputs": [],
   "source": [
    "def split_gen_based(gen_based_df):\n",
    "    train_size = int(len(gen_based_df) * .5)\n",
    "    validate_size = int(len(gen_based_df) * .25)\n",
    "    test_size = int(len(gen_based_df) - train_size - validate_size)\n",
    "    validate_end_index = train_size + validate_size\n",
    "    gen_train = gen_based_df[: train_size]\n",
    "    gen_validate = gen_based_df[train_size : validate_end_index]\n",
    "    gen_test = gen_based_df[validate_end_index :]\n",
    "    gen_train_val=pd.concat([gen_train,gen_validate],axis=0)\n",
    "    return gen_train,gen_validate,gen_test,gen_train_val"
   ]
  }
 ],
 "metadata": {
  "kernelspec": {
   "display_name": "Python 3 (ipykernel)",
   "language": "python",
   "name": "python3"
  },
  "language_info": {
   "codemirror_mode": {
    "name": "ipython",
    "version": 3
   },
   "file_extension": ".py",
   "mimetype": "text/x-python",
   "name": "python",
   "nbconvert_exporter": "python",
   "pygments_lexer": "ipython3",
   "version": "3.9.12"
  }
 },
 "nbformat": 4,
 "nbformat_minor": 5
}
