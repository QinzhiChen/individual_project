{
 "cells": [
  {
   "cell_type": "code",
   "execution_count": 1,
   "id": "1e54425f",
   "metadata": {},
   "outputs": [],
   "source": [
    "import env\n",
    "import pandas as pd\n",
    "from fredapi import Fred\n",
    "import requests\n",
    "import seaborn as sns"
   ]
  },
  {
   "cell_type": "code",
   "execution_count": 2,
   "id": "fe73fecf",
   "metadata": {},
   "outputs": [],
   "source": [
    "fred = Fred(api_key=env.fredkey)\n",
    "HousingStart = fred.get_series('HOUST')\n",
    "interestrate=fred.get_series('FEDFUNDS')\n",
    "unem=fred.get_series('UNRATE')\n",
    "CPI=fred.get_series('CPIAUCSL')\n",
    "DGS10=fred.get_series('DGS10')\n",
    "PPI=fred.get_series('PPIACO')\n",
    "coreCPI=fred.get_series('CPILFESL')\n",
    "OECDGPA=fred.get_series('USALORSGPNOSTSAM')\n",
    "recession=fred.get_series('SAHMREALTIME')\n",
    "INDPRO=fred.get_series('INDPRO')\n",
    "USTRADE=fred.get_series('USTRADE')\n",
    "moneysup=fred.get_series('M2REAL')\n",
    "RGDP=fred.get_series('GDPC1')\n",
    "percGDP=fred.get_series('GDP')\n",
    "T10YFFM=fred.get_series('T10YFFM')\n",
    "is_recession=fred.get_series('USREC')"
   ]
  },
  {
   "cell_type": "code",
   "execution_count": 3,
   "id": "8bd94e01",
   "metadata": {},
   "outputs": [],
   "source": [
    "eco_df=pd.DataFrame(data=[HousingStart,interestrate,unem,CPI,DGS10,PPI,coreCPI,OECDGPA,recession,INDPRO,USTRADE,moneysup,RGDP,percGDP,T10YFFM,is_recession],index=['HousingStart','interestrate','unem','CPI','DGS10','PPI','coreCPI','OECDGPA','recession','INDPRO','USTRADE','moneysup','RGDP','percGDP','T10YFFM','is_recession']).T"
   ]
  },
  {
   "cell_type": "code",
   "execution_count": null,
   "id": "97de7225",
   "metadata": {},
   "outputs": [],
   "source": []
  },
  {
   "cell_type": "code",
   "execution_count": 4,
   "id": "fb785f2b",
   "metadata": {},
   "outputs": [],
   "source": [
    "eco_df['quarter'] = pd.PeriodIndex(eco_df.index, freq='q')"
   ]
  },
  {
   "cell_type": "code",
   "execution_count": 5,
   "id": "a165d76c",
   "metadata": {},
   "outputs": [],
   "source": [
    "eco_df=eco_df.groupby('quarter').agg('mean')"
   ]
  },
  {
   "cell_type": "code",
   "execution_count": 6,
   "id": "c1c3fd0f",
   "metadata": {},
   "outputs": [],
   "source": [
    "eco_df=eco_df.dropna()"
   ]
  },
  {
   "cell_type": "code",
   "execution_count": 7,
   "id": "7de639c0",
   "metadata": {},
   "outputs": [
    {
     "data": {
      "text/plain": [
       "0.000000    209\n",
       "1.000000     23\n",
       "0.666667      6\n",
       "0.333333      4\n",
       "Name: is_recession, dtype: int64"
      ]
     },
     "execution_count": 7,
     "metadata": {},
     "output_type": "execute_result"
    }
   ],
   "source": [
    "eco_df.is_recession.value_counts()"
   ]
  },
  {
   "cell_type": "code",
   "execution_count": null,
   "id": "80313295",
   "metadata": {},
   "outputs": [],
   "source": []
  },
  {
   "cell_type": "code",
   "execution_count": 8,
   "id": "169f759a",
   "metadata": {},
   "outputs": [],
   "source": [
    "from sklearn.model_selection import train_test_split\n",
    "from sklearn.impute import SimpleImputer\n",
    "import warnings\n",
    "import pandas as pd\n",
    "train_size = int(len(eco_df) * .5)\n",
    "validate_size = int(len(eco_df) * .2)\n",
    "test_size = int(len(eco_df) - train_size - validate_size)\n",
    "validate_end_index = train_size + validate_size\n",
    "\n",
    "# split into train, validation, test\n",
    "train = eco_df[: train_size]\n",
    "validate = eco_df[train_size : validate_end_index]\n",
    "test = eco_df[validate_end_index :]"
   ]
  },
  {
   "cell_type": "code",
   "execution_count": 9,
   "id": "635c012e",
   "metadata": {},
   "outputs": [
    {
     "name": "stderr",
     "output_type": "stream",
     "text": [
      "/var/folders/3k/kd9rcxws7ygft2krzxncw_400000gn/T/ipykernel_11782/205085199.py:1: SettingWithCopyWarning: \n",
      "A value is trying to be set on a copy of a slice from a DataFrame.\n",
      "Try using .loc[row_indexer,col_indexer] = value instead\n",
      "\n",
      "See the caveats in the documentation: https://pandas.pydata.org/pandas-docs/stable/user_guide/indexing.html#returning-a-view-versus-a-copy\n",
      "  train[round(train,2)==0.67]=1\n",
      "/var/folders/3k/kd9rcxws7ygft2krzxncw_400000gn/T/ipykernel_11782/205085199.py:1: SettingWithCopyWarning: \n",
      "A value is trying to be set on a copy of a slice from a DataFrame\n",
      "\n",
      "See the caveats in the documentation: https://pandas.pydata.org/pandas-docs/stable/user_guide/indexing.html#returning-a-view-versus-a-copy\n",
      "  train[round(train,2)==0.67]=1\n",
      "/var/folders/3k/kd9rcxws7ygft2krzxncw_400000gn/T/ipykernel_11782/205085199.py:2: SettingWithCopyWarning: \n",
      "A value is trying to be set on a copy of a slice from a DataFrame.\n",
      "Try using .loc[row_indexer,col_indexer] = value instead\n",
      "\n",
      "See the caveats in the documentation: https://pandas.pydata.org/pandas-docs/stable/user_guide/indexing.html#returning-a-view-versus-a-copy\n",
      "  train[round(train,2)==0.33]=0\n",
      "/var/folders/3k/kd9rcxws7ygft2krzxncw_400000gn/T/ipykernel_11782/205085199.py:2: SettingWithCopyWarning: \n",
      "A value is trying to be set on a copy of a slice from a DataFrame\n",
      "\n",
      "See the caveats in the documentation: https://pandas.pydata.org/pandas-docs/stable/user_guide/indexing.html#returning-a-view-versus-a-copy\n",
      "  train[round(train,2)==0.33]=0\n",
      "/var/folders/3k/kd9rcxws7ygft2krzxncw_400000gn/T/ipykernel_11782/205085199.py:3: SettingWithCopyWarning: \n",
      "A value is trying to be set on a copy of a slice from a DataFrame.\n",
      "Try using .loc[row_indexer,col_indexer] = value instead\n",
      "\n",
      "See the caveats in the documentation: https://pandas.pydata.org/pandas-docs/stable/user_guide/indexing.html#returning-a-view-versus-a-copy\n",
      "  test[round(test,2)==0.67]=1\n",
      "/var/folders/3k/kd9rcxws7ygft2krzxncw_400000gn/T/ipykernel_11782/205085199.py:3: SettingWithCopyWarning: \n",
      "A value is trying to be set on a copy of a slice from a DataFrame\n",
      "\n",
      "See the caveats in the documentation: https://pandas.pydata.org/pandas-docs/stable/user_guide/indexing.html#returning-a-view-versus-a-copy\n",
      "  test[round(test,2)==0.67]=1\n",
      "/var/folders/3k/kd9rcxws7ygft2krzxncw_400000gn/T/ipykernel_11782/205085199.py:4: SettingWithCopyWarning: \n",
      "A value is trying to be set on a copy of a slice from a DataFrame.\n",
      "Try using .loc[row_indexer,col_indexer] = value instead\n",
      "\n",
      "See the caveats in the documentation: https://pandas.pydata.org/pandas-docs/stable/user_guide/indexing.html#returning-a-view-versus-a-copy\n",
      "  test[round(test,2)==0.33]=1\n",
      "/var/folders/3k/kd9rcxws7ygft2krzxncw_400000gn/T/ipykernel_11782/205085199.py:4: SettingWithCopyWarning: \n",
      "A value is trying to be set on a copy of a slice from a DataFrame\n",
      "\n",
      "See the caveats in the documentation: https://pandas.pydata.org/pandas-docs/stable/user_guide/indexing.html#returning-a-view-versus-a-copy\n",
      "  test[round(test,2)==0.33]=1\n",
      "/var/folders/3k/kd9rcxws7ygft2krzxncw_400000gn/T/ipykernel_11782/205085199.py:5: SettingWithCopyWarning: \n",
      "A value is trying to be set on a copy of a slice from a DataFrame.\n",
      "Try using .loc[row_indexer,col_indexer] = value instead\n",
      "\n",
      "See the caveats in the documentation: https://pandas.pydata.org/pandas-docs/stable/user_guide/indexing.html#returning-a-view-versus-a-copy\n",
      "  validate[round(validate,2)==0.67]=1\n",
      "/var/folders/3k/kd9rcxws7ygft2krzxncw_400000gn/T/ipykernel_11782/205085199.py:5: SettingWithCopyWarning: \n",
      "A value is trying to be set on a copy of a slice from a DataFrame\n",
      "\n",
      "See the caveats in the documentation: https://pandas.pydata.org/pandas-docs/stable/user_guide/indexing.html#returning-a-view-versus-a-copy\n",
      "  validate[round(validate,2)==0.67]=1\n",
      "/var/folders/3k/kd9rcxws7ygft2krzxncw_400000gn/T/ipykernel_11782/205085199.py:6: SettingWithCopyWarning: \n",
      "A value is trying to be set on a copy of a slice from a DataFrame.\n",
      "Try using .loc[row_indexer,col_indexer] = value instead\n",
      "\n",
      "See the caveats in the documentation: https://pandas.pydata.org/pandas-docs/stable/user_guide/indexing.html#returning-a-view-versus-a-copy\n",
      "  validate[round(validate,2)==0.33]=1\n",
      "/var/folders/3k/kd9rcxws7ygft2krzxncw_400000gn/T/ipykernel_11782/205085199.py:6: SettingWithCopyWarning: \n",
      "A value is trying to be set on a copy of a slice from a DataFrame\n",
      "\n",
      "See the caveats in the documentation: https://pandas.pydata.org/pandas-docs/stable/user_guide/indexing.html#returning-a-view-versus-a-copy\n",
      "  validate[round(validate,2)==0.33]=1\n"
     ]
    }
   ],
   "source": [
    "train[round(train,2)==0.67]=1\n",
    "train[round(train,2)==0.33]=0\n",
    "test[round(test,2)==0.67]=1\n",
    "test[round(test,2)==0.33]=1\n",
    "validate[round(validate,2)==0.67]=1\n",
    "validate[round(validate,2)==0.33]=1"
   ]
  },
  {
   "cell_type": "code",
   "execution_count": 10,
   "id": "f7b78f0f",
   "metadata": {},
   "outputs": [
    {
     "data": {
      "text/plain": [
       "<AxesSubplot:xlabel='interestrate', ylabel='Count'>"
      ]
     },
     "execution_count": 10,
     "metadata": {},
     "output_type": "execute_result"
    },
    {
     "data": {
      "image/png": "[encoded data removed]",
      "text/plain": [
       "<Figure size 432x288 with 1 Axes>"
      ]
     },
     "metadata": {
      "needs_background": "light"
     },
     "output_type": "display_data"
    }
   ],
   "source": [
    "sns.histplot(data=validate,x='interestrate',hue='is_recession')"
   ]
  },
  {
   "cell_type": "code",
   "execution_count": 11,
   "id": "b4a592d7",
   "metadata": {},
   "outputs": [
    {
     "data": {
      "text/plain": [
       "<AxesSubplot:xlabel='interestrate', ylabel='Count'>"
      ]
     },
     "execution_count": 11,
     "metadata": {},
     "output_type": "execute_result"
    },
    {
     "data": {
      "image/png": "[encoded data removed]",
      "text/plain": [
       "<Figure size 432x288 with 1 Axes>"
      ]
     },
     "metadata": {
      "needs_background": "light"
     },
     "output_type": "display_data"
    }
   ],
   "source": [
    "sns.histplot(data=train,x='interestrate',hue='is_recession')"
   ]
  },
  {
   "cell_type": "code",
   "execution_count": 12,
   "id": "d35424c9",
   "metadata": {},
   "outputs": [
    {
     "data": {
      "text/plain": [
       "<AxesSubplot:xlabel='percGDP', ylabel='Count'>"
      ]
     },
     "execution_count": 12,
     "metadata": {},
     "output_type": "execute_result"
    },
    {
     "data": {
      "image/png": "[encoded data removed]",
      "text/plain": [
       "<Figure size 432x288 with 1 Axes>"
      ]
     },
     "metadata": {
      "needs_background": "light"
     },
     "output_type": "display_data"
    }
   ],
   "source": [
    "sns.histplot(data=train,x='percGDP',hue='is_recession')"
   ]
  },
  {
   "cell_type": "code",
   "execution_count": 13,
   "id": "5425ba44",
   "metadata": {},
   "outputs": [
    {
     "data": {
      "text/plain": [
       "<AxesSubplot:xlabel='RGDP', ylabel='Count'>"
      ]
     },
     "execution_count": 13,
     "metadata": {},
     "output_type": "execute_result"
    },
    {
     "data": {
      "image/png": "[encoded data removed]",
      "text/plain": [
       "<Figure size 432x288 with 1 Axes>"
      ]
     },
     "metadata": {
      "needs_background": "light"
     },
     "output_type": "display_data"
    }
   ],
   "source": [
    "sns.histplot(data=train,x='RGDP',hue='is_recession')"
   ]
  },
  {
   "cell_type": "code",
   "execution_count": 14,
   "id": "24d4b3b8",
   "metadata": {},
   "outputs": [
    {
     "data": {
      "text/plain": [
       "<AxesSubplot:ylabel='quarter'>"
      ]
     },
     "execution_count": 14,
     "metadata": {},
     "output_type": "execute_result"
    },
    {
     "data": {
      "image/png": "[encoded data removed]",
      "text/plain": [
       "<Figure size 432x288 with 2 Axes>"
      ]
     },
     "metadata": {
      "needs_background": "light"
     },
     "output_type": "display_data"
    }
   ],
   "source": [
    "sns.heatmap(data=train)"
   ]
  },
  {
   "cell_type": "code",
   "execution_count": 15,
   "id": "e897cba7",
   "metadata": {},
   "outputs": [
    {
     "ename": "NameError",
     "evalue": "name 'x_train' is not defined",
     "output_type": "error",
     "traceback": [
      "\u001b[0;31m---------------------------------------------------------------------------\u001b[0m",
      "\u001b[0;31mNameError\u001b[0m                                 Traceback (most recent call last)",
      "Input \u001b[0;32mIn [15]\u001b[0m, in \u001b[0;36m<cell line: 1>\u001b[0;34m()\u001b[0m\n\u001b[0;32m----> 1\u001b[0m \u001b[43mx_train\u001b[49m\u001b[38;5;241m.\u001b[39minfo()\n",
      "\u001b[0;31mNameError\u001b[0m: name 'x_train' is not defined"
     ]
    }
   ],
   "source": [
    "x_train.info()"
   ]
  },
  {
   "cell_type": "code",
   "execution_count": 20,
   "id": "e2f339c0",
   "metadata": {},
   "outputs": [],
   "source": [
    "x_train = train.select_dtypes(exclude=['object']).drop(columns=['is_recession'])\n",
    "y_train = train.select_dtypes(exclude=['object']).is_recession\n",
    "\n",
    "x_validate = validate.select_dtypes(exclude=['object']).drop(columns=['is_recession'])\n",
    "y_validate = validate.select_dtypes(exclude=['object']).is_recession\n",
    "\n",
    "x_test = test.select_dtypes(exclude=['object']).drop(columns=['is_recession'])\n",
    "y_test = test.select_dtypes(exclude=['object']).is_recession"
   ]
  },
  {
   "cell_type": "code",
   "execution_count": 21,
   "id": "03538993",
   "metadata": {},
   "outputs": [],
   "source": [
    "y_train[round(y_train,2)==0.67]=1"
   ]
  },
  {
   "cell_type": "code",
   "execution_count": 22,
   "id": "ab77d2fd",
   "metadata": {},
   "outputs": [],
   "source": [
    "y_train[round(y_train,2)==0.67]=1\n",
    "y_train[round(y_train,2)==0.33]=0"
   ]
  },
  {
   "cell_type": "code",
   "execution_count": 23,
   "id": "3ccc3cdc",
   "metadata": {},
   "outputs": [],
   "source": [
    "y_validate[round(y_validate,2)==0.67]=1\n",
    "y_validate[round(y_validate,2)==0.33]=1"
   ]
  },
  {
   "cell_type": "code",
   "execution_count": 24,
   "id": "693710a4",
   "metadata": {},
   "outputs": [],
   "source": [
    "y_test[round(y_test,2)==0.67]=1\n",
    "y_test[round(y_test,2)==0.33]=1"
   ]
  },
  {
   "cell_type": "code",
   "execution_count": 25,
   "id": "0fad14e4",
   "metadata": {},
   "outputs": [],
   "source": [
    "import pandas as pd\n",
    "import numpy as np\n",
    "import scipy.stats as stats\n",
    "import matplotlib.pyplot as plt\n",
    "import seaborn as sns\n",
    "# ignore warnings\n",
    "import warnings \n",
    "warnings.filterwarnings(\"ignore\")\n",
    "# import sklearn for classification\n",
    "from sklearn.model_selection import train_test_split\n",
    "from sklearn.tree import DecisionTreeClassifier, plot_tree, export_text\n",
    "from sklearn.ensemble import RandomForestClassifier\n",
    "from sklearn.linear_model import LogisticRegression\n",
    "from sklearn.neighbors import KNeighborsClassifier\n",
    "from sklearn.linear_model import LogisticRegression\n",
    "from sklearn.neighbors import KNeighborsClassifier\n",
    "from sklearn.metrics import classification_report, confusion_matrix, accuracy_score\n",
    "from sklearn.metrics import ConfusionMatrixDisplay"
   ]
  },
  {
   "cell_type": "code",
   "execution_count": 26,
   "id": "a1d97474",
   "metadata": {},
   "outputs": [],
   "source": [
    "clf = DecisionTreeClassifier(max_depth=3, random_state=123)"
   ]
  },
  {
   "cell_type": "code",
   "execution_count": 27,
   "id": "c39e43ff",
   "metadata": {},
   "outputs": [],
   "source": [
    "clf = clf.fit(x_train, y_train)"
   ]
  },
  {
   "cell_type": "code",
   "execution_count": 28,
   "id": "f799eef1",
   "metadata": {},
   "outputs": [
    {
     "data": {
      "text/plain": [
       "array([0., 0., 0., 0., 0.])"
      ]
     },
     "execution_count": 28,
     "metadata": {},
     "output_type": "execute_result"
    }
   ],
   "source": [
    "y_pred = clf.predict(x_train)\n",
    "y_pred[0:5]"
   ]
  },
  {
   "cell_type": "code",
   "execution_count": 29,
   "id": "772d22c1",
   "metadata": {},
   "outputs": [
    {
     "data": {
      "text/plain": [
       "array([[0.98823529, 0.01176471],\n",
       "       [0.98823529, 0.01176471],\n",
       "       [0.98823529, 0.01176471],\n",
       "       [0.98823529, 0.01176471],\n",
       "       [0.98823529, 0.01176471]])"
      ]
     },
     "execution_count": 29,
     "metadata": {},
     "output_type": "execute_result"
    }
   ],
   "source": [
    "y_pred_proba = clf.predict_proba(x_train)\n",
    "y_pred_proba[0:5]"
   ]
  },
  {
   "cell_type": "code",
   "execution_count": 30,
   "id": "c0367b11",
   "metadata": {},
   "outputs": [
    {
     "name": "stdout",
     "output_type": "stream",
     "text": [
      "Accuracy of Decision Tree classifier on training set: 0.95\n"
     ]
    }
   ],
   "source": [
    "print('Accuracy of Decision Tree classifier on training set: {:.2f}'\n",
    "      .format(clf.score(x_train, y_train)))\n"
   ]
  },
  {
   "cell_type": "code",
   "execution_count": 31,
   "id": "86a61135",
   "metadata": {},
   "outputs": [
    {
     "name": "stdout",
     "output_type": "stream",
     "text": [
      "Accuracy of Decision Tree classifier on validate set: 0.94\n"
     ]
    }
   ],
   "source": [
    "print('Accuracy of Decision Tree classifier on validate set: {:.2f}'\n",
    "     .format(clf.score(x_validate, y_validate)))\n"
   ]
  },
  {
   "cell_type": "code",
   "execution_count": 32,
   "id": "e1fba8dc",
   "metadata": {},
   "outputs": [
    {
     "name": "stdout",
     "output_type": "stream",
     "text": [
      "Accuracy of Decision Tree classifier on validate set: 0.89\n"
     ]
    }
   ],
   "source": [
    "print('Accuracy of Decision Tree classifier on validate set: {:.2f}'\n",
    "     .format(clf.score(x_test, y_test)))\n"
   ]
  },
  {
   "cell_type": "code",
   "execution_count": 33,
   "id": "65f2283a",
   "metadata": {},
   "outputs": [
    {
     "name": "stdout",
     "output_type": "stream",
     "text": [
      "model depth 2\n",
      "              precision    recall  f1-score   support\n",
      "\n",
      "         0.0       0.91      1.00      0.95       101\n",
      "         1.0       1.00      0.50      0.67        20\n",
      "\n",
      "    accuracy                           0.92       121\n",
      "   macro avg       0.95      0.75      0.81       121\n",
      "weighted avg       0.92      0.92      0.91       121\n",
      "\n",
      "model depth 3\n",
      "              precision    recall  f1-score   support\n",
      "\n",
      "         0.0       0.94      1.00      0.97       101\n",
      "         1.0       1.00      0.65      0.79        20\n",
      "\n",
      "    accuracy                           0.94       121\n",
      "   macro avg       0.97      0.82      0.88       121\n",
      "weighted avg       0.95      0.94      0.94       121\n",
      "\n",
      "model depth 4\n",
      "              precision    recall  f1-score   support\n",
      "\n",
      "         0.0       1.00      1.00      1.00       101\n",
      "         1.0       1.00      1.00      1.00        20\n",
      "\n",
      "    accuracy                           1.00       121\n",
      "   macro avg       1.00      1.00      1.00       121\n",
      "weighted avg       1.00      1.00      1.00       121\n",
      "\n",
      "model depth 5\n",
      "              precision    recall  f1-score   support\n",
      "\n",
      "         0.0       1.00      1.00      1.00       101\n",
      "         1.0       1.00      1.00      1.00        20\n",
      "\n",
      "    accuracy                           1.00       121\n",
      "   macro avg       1.00      1.00      1.00       121\n",
      "weighted avg       1.00      1.00      1.00       121\n",
      "\n",
      "model depth 6\n",
      "              precision    recall  f1-score   support\n",
      "\n",
      "         0.0       1.00      1.00      1.00       101\n",
      "         1.0       1.00      1.00      1.00        20\n",
      "\n",
      "    accuracy                           1.00       121\n",
      "   macro avg       1.00      1.00      1.00       121\n",
      "weighted avg       1.00      1.00      1.00       121\n",
      "\n",
      "model depth 7\n",
      "              precision    recall  f1-score   support\n",
      "\n",
      "         0.0       1.00      1.00      1.00       101\n",
      "         1.0       1.00      1.00      1.00        20\n",
      "\n",
      "    accuracy                           1.00       121\n",
      "   macro avg       1.00      1.00      1.00       121\n",
      "weighted avg       1.00      1.00      1.00       121\n",
      "\n",
      "model depth 8\n",
      "              precision    recall  f1-score   support\n",
      "\n",
      "         0.0       1.00      1.00      1.00       101\n",
      "         1.0       1.00      1.00      1.00        20\n",
      "\n",
      "    accuracy                           1.00       121\n",
      "   macro avg       1.00      1.00      1.00       121\n",
      "weighted avg       1.00      1.00      1.00       121\n",
      "\n",
      "model depth 9\n",
      "              precision    recall  f1-score   support\n",
      "\n",
      "         0.0       1.00      1.00      1.00       101\n",
      "         1.0       1.00      1.00      1.00        20\n",
      "\n",
      "    accuracy                           1.00       121\n",
      "   macro avg       1.00      1.00      1.00       121\n",
      "weighted avg       1.00      1.00      1.00       121\n",
      "\n",
      "model depth 10\n",
      "              precision    recall  f1-score   support\n",
      "\n",
      "         0.0       1.00      1.00      1.00       101\n",
      "         1.0       1.00      1.00      1.00        20\n",
      "\n",
      "    accuracy                           1.00       121\n",
      "   macro avg       1.00      1.00      1.00       121\n",
      "weighted avg       1.00      1.00      1.00       121\n",
      "\n",
      "model depth 11\n",
      "              precision    recall  f1-score   support\n",
      "\n",
      "         0.0       1.00      1.00      1.00       101\n",
      "         1.0       1.00      1.00      1.00        20\n",
      "\n",
      "    accuracy                           1.00       121\n",
      "   macro avg       1.00      1.00      1.00       121\n",
      "weighted avg       1.00      1.00      1.00       121\n",
      "\n",
      "model depth 12\n",
      "              precision    recall  f1-score   support\n",
      "\n",
      "         0.0       1.00      1.00      1.00       101\n",
      "         1.0       1.00      1.00      1.00        20\n",
      "\n",
      "    accuracy                           1.00       121\n",
      "   macro avg       1.00      1.00      1.00       121\n",
      "weighted avg       1.00      1.00      1.00       121\n",
      "\n",
      "model depth 13\n",
      "              precision    recall  f1-score   support\n",
      "\n",
      "         0.0       1.00      1.00      1.00       101\n",
      "         1.0       1.00      1.00      1.00        20\n",
      "\n",
      "    accuracy                           1.00       121\n",
      "   macro avg       1.00      1.00      1.00       121\n",
      "weighted avg       1.00      1.00      1.00       121\n",
      "\n",
      "model depth 14\n",
      "              precision    recall  f1-score   support\n",
      "\n",
      "         0.0       1.00      1.00      1.00       101\n",
      "         1.0       1.00      1.00      1.00        20\n",
      "\n",
      "    accuracy                           1.00       121\n",
      "   macro avg       1.00      1.00      1.00       121\n",
      "weighted avg       1.00      1.00      1.00       121\n",
      "\n",
      "model depth 15\n",
      "              precision    recall  f1-score   support\n",
      "\n",
      "         0.0       1.00      1.00      1.00       101\n",
      "         1.0       1.00      1.00      1.00        20\n",
      "\n",
      "    accuracy                           1.00       121\n",
      "   macro avg       1.00      1.00      1.00       121\n",
      "weighted avg       1.00      1.00      1.00       121\n",
      "\n",
      "model depth 16\n",
      "              precision    recall  f1-score   support\n",
      "\n",
      "         0.0       1.00      1.00      1.00       101\n",
      "         1.0       1.00      1.00      1.00        20\n",
      "\n",
      "    accuracy                           1.00       121\n",
      "   macro avg       1.00      1.00      1.00       121\n",
      "weighted avg       1.00      1.00      1.00       121\n",
      "\n",
      "model depth 17\n",
      "              precision    recall  f1-score   support\n",
      "\n",
      "         0.0       1.00      1.00      1.00       101\n",
      "         1.0       1.00      1.00      1.00        20\n",
      "\n",
      "    accuracy                           1.00       121\n",
      "   macro avg       1.00      1.00      1.00       121\n",
      "weighted avg       1.00      1.00      1.00       121\n",
      "\n",
      "model depth 18\n",
      "              precision    recall  f1-score   support\n",
      "\n",
      "         0.0       1.00      1.00      1.00       101\n",
      "         1.0       1.00      1.00      1.00        20\n",
      "\n",
      "    accuracy                           1.00       121\n",
      "   macro avg       1.00      1.00      1.00       121\n",
      "weighted avg       1.00      1.00      1.00       121\n",
      "\n",
      "model depth 19\n",
      "              precision    recall  f1-score   support\n",
      "\n",
      "         0.0       1.00      1.00      1.00       101\n",
      "         1.0       1.00      1.00      1.00        20\n",
      "\n",
      "    accuracy                           1.00       121\n",
      "   macro avg       1.00      1.00      1.00       121\n",
      "weighted avg       1.00      1.00      1.00       121\n",
      "\n"
     ]
    }
   ],
   "source": [
    "for model in range (2,20):\n",
    "    rf=RandomForestClassifier(max_depth=model, random_state=123)\n",
    "    rf=rf.fit(x_train,y_train)\n",
    "    y_predict=rf.predict(x_train)\n",
    "    print('model depth',model)\n",
    "    print(classification_report(y_train, y_predict))"
   ]
  },
  {
   "cell_type": "code",
   "execution_count": 34,
   "id": "848dcf7d",
   "metadata": {},
   "outputs": [
    {
     "name": "stdout",
     "output_type": "stream",
     "text": [
      "model depth 2\n",
      "              precision    recall  f1-score   support\n",
      "\n",
      "         0.0       1.00      1.00      1.00        45\n",
      "         1.0       1.00      1.00      1.00         3\n",
      "\n",
      "    accuracy                           1.00        48\n",
      "   macro avg       1.00      1.00      1.00        48\n",
      "weighted avg       1.00      1.00      1.00        48\n",
      "\n",
      "model depth 3\n",
      "              precision    recall  f1-score   support\n",
      "\n",
      "         0.0       1.00      1.00      1.00        45\n",
      "         1.0       1.00      1.00      1.00         3\n",
      "\n",
      "    accuracy                           1.00        48\n",
      "   macro avg       1.00      1.00      1.00        48\n",
      "weighted avg       1.00      1.00      1.00        48\n",
      "\n",
      "model depth 4\n",
      "              precision    recall  f1-score   support\n",
      "\n",
      "         0.0       1.00      1.00      1.00        45\n",
      "         1.0       1.00      1.00      1.00         3\n",
      "\n",
      "    accuracy                           1.00        48\n",
      "   macro avg       1.00      1.00      1.00        48\n",
      "weighted avg       1.00      1.00      1.00        48\n",
      "\n",
      "model depth 5\n",
      "              precision    recall  f1-score   support\n",
      "\n",
      "         0.0       1.00      1.00      1.00        45\n",
      "         1.0       1.00      1.00      1.00         3\n",
      "\n",
      "    accuracy                           1.00        48\n",
      "   macro avg       1.00      1.00      1.00        48\n",
      "weighted avg       1.00      1.00      1.00        48\n",
      "\n",
      "model depth 6\n",
      "              precision    recall  f1-score   support\n",
      "\n",
      "         0.0       1.00      1.00      1.00        45\n",
      "         1.0       1.00      1.00      1.00         3\n",
      "\n",
      "    accuracy                           1.00        48\n",
      "   macro avg       1.00      1.00      1.00        48\n",
      "weighted avg       1.00      1.00      1.00        48\n",
      "\n",
      "model depth 7\n",
      "              precision    recall  f1-score   support\n",
      "\n",
      "         0.0       1.00      1.00      1.00        45\n",
      "         1.0       1.00      1.00      1.00         3\n",
      "\n",
      "    accuracy                           1.00        48\n",
      "   macro avg       1.00      1.00      1.00        48\n",
      "weighted avg       1.00      1.00      1.00        48\n",
      "\n",
      "model depth 8\n",
      "              precision    recall  f1-score   support\n",
      "\n",
      "         0.0       1.00      1.00      1.00        45\n",
      "         1.0       1.00      1.00      1.00         3\n",
      "\n",
      "    accuracy                           1.00        48\n",
      "   macro avg       1.00      1.00      1.00        48\n",
      "weighted avg       1.00      1.00      1.00        48\n",
      "\n",
      "model depth 9\n",
      "              precision    recall  f1-score   support\n",
      "\n",
      "         0.0       1.00      1.00      1.00        45\n",
      "         1.0       1.00      1.00      1.00         3\n",
      "\n",
      "    accuracy                           1.00        48\n",
      "   macro avg       1.00      1.00      1.00        48\n",
      "weighted avg       1.00      1.00      1.00        48\n",
      "\n",
      "model depth 10\n",
      "              precision    recall  f1-score   support\n",
      "\n",
      "         0.0       1.00      1.00      1.00        45\n",
      "         1.0       1.00      1.00      1.00         3\n",
      "\n",
      "    accuracy                           1.00        48\n",
      "   macro avg       1.00      1.00      1.00        48\n",
      "weighted avg       1.00      1.00      1.00        48\n",
      "\n",
      "model depth 11\n",
      "              precision    recall  f1-score   support\n",
      "\n",
      "         0.0       1.00      1.00      1.00        45\n",
      "         1.0       1.00      1.00      1.00         3\n",
      "\n",
      "    accuracy                           1.00        48\n",
      "   macro avg       1.00      1.00      1.00        48\n",
      "weighted avg       1.00      1.00      1.00        48\n",
      "\n",
      "model depth 12\n",
      "              precision    recall  f1-score   support\n",
      "\n",
      "         0.0       1.00      1.00      1.00        45\n",
      "         1.0       1.00      1.00      1.00         3\n",
      "\n",
      "    accuracy                           1.00        48\n",
      "   macro avg       1.00      1.00      1.00        48\n",
      "weighted avg       1.00      1.00      1.00        48\n",
      "\n",
      "model depth 13\n",
      "              precision    recall  f1-score   support\n",
      "\n",
      "         0.0       1.00      1.00      1.00        45\n",
      "         1.0       1.00      1.00      1.00         3\n",
      "\n",
      "    accuracy                           1.00        48\n",
      "   macro avg       1.00      1.00      1.00        48\n",
      "weighted avg       1.00      1.00      1.00        48\n",
      "\n",
      "model depth 14\n",
      "              precision    recall  f1-score   support\n",
      "\n",
      "         0.0       1.00      1.00      1.00        45\n",
      "         1.0       1.00      1.00      1.00         3\n",
      "\n",
      "    accuracy                           1.00        48\n",
      "   macro avg       1.00      1.00      1.00        48\n",
      "weighted avg       1.00      1.00      1.00        48\n",
      "\n",
      "model depth 15\n",
      "              precision    recall  f1-score   support\n",
      "\n",
      "         0.0       1.00      1.00      1.00        45\n",
      "         1.0       1.00      1.00      1.00         3\n",
      "\n",
      "    accuracy                           1.00        48\n",
      "   macro avg       1.00      1.00      1.00        48\n",
      "weighted avg       1.00      1.00      1.00        48\n",
      "\n",
      "model depth 16\n",
      "              precision    recall  f1-score   support\n",
      "\n",
      "         0.0       1.00      1.00      1.00        45\n",
      "         1.0       1.00      1.00      1.00         3\n",
      "\n",
      "    accuracy                           1.00        48\n",
      "   macro avg       1.00      1.00      1.00        48\n",
      "weighted avg       1.00      1.00      1.00        48\n",
      "\n",
      "model depth 17\n",
      "              precision    recall  f1-score   support\n",
      "\n",
      "         0.0       1.00      1.00      1.00        45\n",
      "         1.0       1.00      1.00      1.00         3\n",
      "\n",
      "    accuracy                           1.00        48\n",
      "   macro avg       1.00      1.00      1.00        48\n",
      "weighted avg       1.00      1.00      1.00        48\n",
      "\n",
      "model depth 18\n",
      "              precision    recall  f1-score   support\n",
      "\n",
      "         0.0       1.00      1.00      1.00        45\n",
      "         1.0       1.00      1.00      1.00         3\n",
      "\n",
      "    accuracy                           1.00        48\n",
      "   macro avg       1.00      1.00      1.00        48\n",
      "weighted avg       1.00      1.00      1.00        48\n",
      "\n",
      "model depth 19\n",
      "              precision    recall  f1-score   support\n",
      "\n",
      "         0.0       1.00      1.00      1.00        45\n",
      "         1.0       1.00      1.00      1.00         3\n",
      "\n",
      "    accuracy                           1.00        48\n",
      "   macro avg       1.00      1.00      1.00        48\n",
      "weighted avg       1.00      1.00      1.00        48\n",
      "\n"
     ]
    }
   ],
   "source": [
    "for model in range (2,20):\n",
    "    rf=RandomForestClassifier(max_depth=model, random_state=123)\n",
    "    rf=rf.fit(x_validate,y_validate)\n",
    "    y_predict=rf.predict(x_validate)\n",
    "    print('model depth',model)\n",
    "    print(classification_report(y_validate, y_predict))"
   ]
  },
  {
   "cell_type": "code",
   "execution_count": 35,
   "id": "b1339d8e",
   "metadata": {},
   "outputs": [
    {
     "data": {
      "text/plain": [
       "RandomForestClassifier(max_depth=5, random_state=123)"
      ]
     },
     "execution_count": 35,
     "metadata": {},
     "output_type": "execute_result"
    }
   ],
   "source": [
    "rf = RandomForestClassifier(bootstrap=True, \n",
    "                            class_weight=None, \n",
    "                            criterion='gini',\n",
    "                            min_samples_leaf=1,\n",
    "                            n_estimators=100,\n",
    "                            max_depth=5, \n",
    "                            random_state=123)\n",
    "rf.fit(x_train, y_train)"
   ]
  },
  {
   "cell_type": "code",
   "execution_count": null,
   "id": "ca04fb19",
   "metadata": {},
   "outputs": [],
   "source": [
    "rf = RandomForestClassifier(bootstrap=True, \n",
    "                            class_weight=None, \n",
    "                            criterion='gini',\n",
    "                            min_samples_leaf=1,\n",
    "                            n_estimators=100,\n",
    "                            max_depth=5, \n",
    "                            random_state=123)\n",
    "rf.fit(x_validate, y_validate)"
   ]
  },
  {
   "cell_type": "code",
   "execution_count": null,
   "id": "55fd4f9a",
   "metadata": {},
   "outputs": [],
   "source": [
    "rf = RandomForestClassifier(bootstrap=True, \n",
    "                            class_weight=None, \n",
    "                            criterion='gini',\n",
    "                            min_samples_leaf=1,\n",
    "                            n_estimators=100,\n",
    "                            max_depth=5, \n",
    "                            random_state=123)\n",
    "rf.fit(x_test, y_test)"
   ]
  },
  {
   "cell_type": "code",
   "execution_count": null,
   "id": "ac4a0ccf",
   "metadata": {},
   "outputs": [],
   "source": [
    "y_predict=rf.predict(x_test)"
   ]
  },
  {
   "cell_type": "code",
   "execution_count": null,
   "id": "99d881f0",
   "metadata": {},
   "outputs": [],
   "source": [
    "print(classification_report(y_test,y_predict))"
   ]
  },
  {
   "cell_type": "code",
   "execution_count": null,
   "id": "1721f149",
   "metadata": {},
   "outputs": [],
   "source": [
    "y_predict=rf.predict(x_validate)"
   ]
  },
  {
   "cell_type": "code",
   "execution_count": null,
   "id": "8e1ae70a",
   "metadata": {},
   "outputs": [],
   "source": [
    "print(classification_report(y_validate,y_predict))"
   ]
  },
  {
   "cell_type": "code",
   "execution_count": 36,
   "id": "246c2dda",
   "metadata": {},
   "outputs": [],
   "source": [
    "y_predict=rf.predict(x_train)"
   ]
  },
  {
   "cell_type": "code",
   "execution_count": 37,
   "id": "b36b1b05",
   "metadata": {},
   "outputs": [
    {
     "name": "stdout",
     "output_type": "stream",
     "text": [
      "              precision    recall  f1-score   support\n",
      "\n",
      "         0.0       1.00      1.00      1.00       101\n",
      "         1.0       1.00      1.00      1.00        20\n",
      "\n",
      "    accuracy                           1.00       121\n",
      "   macro avg       1.00      1.00      1.00       121\n",
      "weighted avg       1.00      1.00      1.00       121\n",
      "\n"
     ]
    }
   ],
   "source": [
    "print(classification_report(y_train,y_predict))"
   ]
  },
  {
   "cell_type": "code",
   "execution_count": null,
   "id": "5da9de04",
   "metadata": {},
   "outputs": [],
   "source": [
    "clf = DecisionTreeClassifier(max_depth=3, random_state=123)\n",
    "clf = clf.fit(x_train, y_train)"
   ]
  },
  {
   "cell_type": "code",
   "execution_count": null,
   "id": "717127e7",
   "metadata": {},
   "outputs": [],
   "source": [
    "telco_y_pred = pd.DataFrame({'recession': y_train,'baseline': 0, 'model_1':clf.predict(x_train)})\n",
    "telco_y_pred"
   ]
  },
  {
   "cell_type": "code",
   "execution_count": null,
   "id": "509e39df",
   "metadata": {},
   "outputs": [],
   "source": [
    "sns.relplot(x='max_depth',y='difference',data=test_validate)"
   ]
  },
  {
   "cell_type": "code",
   "execution_count": null,
   "id": "3aff242e",
   "metadata": {},
   "outputs": [],
   "source": [
    "log_m,dec_m,ranfor_m,knn_m=modeling(x_train,y_train,x_validate,y_validate)\n",
    "log_m,dec_m,ranfor_m,knn_m"
   ]
  },
  {
   "cell_type": "code",
   "execution_count": null,
   "id": "87ac814d",
   "metadata": {},
   "outputs": [],
   "source": [
    "def modeling(telco_x_train, telco_y_train, telco_x_validate, telco_y_validate):\n",
    "    logrreg_m= LogisticRegression(random_state=123)\n",
    "    dectre_m = DecisionTreeClassifier(max_depth=3, random_state=123)\n",
    "    ranfor_m = RandomForestClassifier(max_depth=5, random_state=123)\n",
    "    knn_m= KNeighborsClassifier(n_neighbors=15, weights='uniform')\n",
    "    models = [logrreg_m, dectre_m, ranfor_m, knn_m]\n",
    "    for model in models:\n",
    "        model.fit(telco_x_train, telco_y_train)\n",
    "        actual_train = telco_y_train\n",
    "        pred_train = model.predict(telco_x_train)\n",
    "        actual_val = telco_y_validate\n",
    "        pred_val = model.predict(telco_x_validate)\n",
    "        print(model)\n",
    "        print('                           ')\n",
    "        print('train score: ')\n",
    "        print(classification_report(actual_train, pred_train))\n",
    "        print('val score: ')\n",
    "        print(classification_report(actual_val, pred_val))\n",
    "        print('                        ')\n",
    "    return logrreg_m, dectre_m, ranfor_m, knn_m"
   ]
  },
  {
   "cell_type": "code",
   "execution_count": null,
   "id": "34639e0f",
   "metadata": {},
   "outputs": [],
   "source": [
    "actual_test = y_test\n",
    "pred_test = ranfor_m.predict(x_test)\n",
    "print(classification_report(actual_test, pred_test))"
   ]
  },
  {
   "cell_type": "code",
   "execution_count": null,
   "id": "ef88d20d",
   "metadata": {},
   "outputs": [],
   "source": [
    "t=actual_test[actual_test==pred_test]"
   ]
  },
  {
   "cell_type": "code",
   "execution_count": null,
   "id": "531077d4",
   "metadata": {},
   "outputs": [],
   "source": [
    "t.value_counts()"
   ]
  },
  {
   "cell_type": "code",
   "execution_count": null,
   "id": "b9a91eb4",
   "metadata": {},
   "outputs": [],
   "source": []
  },
  {
   "cell_type": "code",
   "execution_count": null,
   "id": "7d62feb9",
   "metadata": {},
   "outputs": [],
   "source": []
  }
 ],
 "metadata": {
  "kernelspec": {
   "display_name": "Python 3 (ipykernel)",
   "language": "python",
   "name": "python3"
  },
  "language_info": {
   "codemirror_mode": {
    "name": "ipython",
    "version": 3
   },
   "file_extension": ".py",
   "mimetype": "text/x-python",
   "name": "python",
   "nbconvert_exporter": "python",
   "pygments_lexer": "ipython3",
   "version": "3.9.12"
  }
 },
 "nbformat": 4,
 "nbformat_minor": 5
}
